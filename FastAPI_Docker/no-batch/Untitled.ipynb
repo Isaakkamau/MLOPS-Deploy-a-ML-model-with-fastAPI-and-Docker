{
 "cells": [
  {
   "cell_type": "code",
   "execution_count": 1,
   "id": "449305a2-f38a-4a67-94c0-2af6784e1551",
   "metadata": {},
   "outputs": [
    {
     "data": {
      "text/plain": [
       "'C:\\\\Users\\\\Isaac\\\\machine-learning-engineering-for-production-public\\\\course4\\\\week2-ungraded-labs\\\\C4_W2_Lab_1_FastAPI_Docker\\\\no-batch'"
      ]
     },
     "execution_count": 1,
     "metadata": {},
     "output_type": "execute_result"
    }
   ],
   "source": [
    "pwd"
   ]
  },
  {
   "cell_type": "code",
   "execution_count": 2,
   "id": "07a0606d-2775-461d-bf1c-516d4bf244e5",
   "metadata": {},
   "outputs": [],
   "source": [
    "import pickle\n",
    "import numpy as np\n",
    "from fastapi import FastAPI\n",
    "from pydantic import BaseModel\n",
    "\n",
    "\n",
    "app = FastAPI(title=\"Predicting Wine Class\")"
   ]
  },
  {
   "cell_type": "code",
   "execution_count": 3,
   "id": "3591cc16-bd13-4485-b2c3-59a997c2d043",
   "metadata": {},
   "outputs": [],
   "source": [
    "class Wine(BaseModel):\n",
    "    alcohol: float\n",
    "    malic_acid: float\n",
    "    ash: float\n",
    "    alcalinity_of_ash: float\n",
    "    magnesium: float\n",
    "    total_phenols: float\n",
    "    flavanoids: float\n",
    "    nonflavanoid_phenols: float\n",
    "    proanthocyanins: float\n",
    "    color_intensity: float\n",
    "    hue: float\n",
    "    od280_od315_of_diluted_wines: float\n",
    "    proline: float"
   ]
  },
  {
   "cell_type": "code",
   "execution_count": 4,
   "id": "b97d1d4a-192e-4463-9347-fcc327a469dc",
   "metadata": {},
   "outputs": [],
   "source": [
    "@app.on_event(\"startup\")\n",
    "def load_clf():\n",
    "    # Load classifier from pickle file\n",
    "    with open(\"/app/wine.pkl\", \"rb\") as file:\n",
    "        global clf\n",
    "        clf = pickle.load(file)"
   ]
  },
  {
   "cell_type": "code",
   "execution_count": 5,
   "id": "64040a58-93c7-4072-ab8f-59c05a2a5542",
   "metadata": {},
   "outputs": [],
   "source": [
    "@app.post(\"/predict\")\n",
    "def predict(wine: Wine):\n",
    "    data_point = np.array(\n",
    "        [\n",
    "            [\n",
    "                wine.alcohol,\n",
    "                wine.malic_acid,\n",
    "                wine.ash,\n",
    "                wine.alcalinity_of_ash,\n",
    "                wine.magnesium,\n",
    "                wine.total_phenols,\n",
    "                wine.flavanoids,\n",
    "                wine.nonflavanoid_phenols,\n",
    "                wine.proanthocyanins,\n",
    "                wine.color_intensity,\n",
    "                wine.hue,\n",
    "                wine.od280_od315_of_diluted_wines,\n",
    "                wine.proline,\n",
    "            ]\n",
    "        ]\n",
    "    )\n",
    "\n",
    "    pred = clf.predict(data_point).tolist()\n",
    "    pred = pred[0]\n",
    "    print(pred)\n",
    "    return {\"Prediction\": pred}"
   ]
  },
  {
   "cell_type": "code",
   "execution_count": 6,
   "id": "de9d9d0c-4818-4747-8cfd-980cf408e639",
   "metadata": {},
   "outputs": [
    {
     "ename": "SyntaxError",
     "evalue": "invalid syntax (2423025761.py, line 1)",
     "output_type": "error",
     "traceback": [
      "\u001b[1;36m  Cell \u001b[1;32mIn[6], line 1\u001b[1;36m\u001b[0m\n\u001b[1;33m    docker build -t mlepc4w2-ugl:no-batch\u001b[0m\n\u001b[1;37m           ^\u001b[0m\n\u001b[1;31mSyntaxError\u001b[0m\u001b[1;31m:\u001b[0m invalid syntax\n"
     ]
    }
   ],
   "source": [
    "docker build -t mlepc4w2-ugl:no-batch"
   ]
  },
  {
   "cell_type": "code",
   "execution_count": null,
   "id": "9a779c48-c1dd-4eb6-8272-e97d7c6bfee4",
   "metadata": {},
   "outputs": [],
   "source": []
  }
 ],
 "metadata": {
  "kernelspec": {
   "display_name": "mlep-w1-lab",
   "language": "python",
   "name": "mlep-w1-lab"
  },
  "language_info": {
   "codemirror_mode": {
    "name": "ipython",
    "version": 3
   },
   "file_extension": ".py",
   "mimetype": "text/x-python",
   "name": "python",
   "nbconvert_exporter": "python",
   "pygments_lexer": "ipython3",
   "version": "3.8.15"
  }
 },
 "nbformat": 4,
 "nbformat_minor": 5
}
